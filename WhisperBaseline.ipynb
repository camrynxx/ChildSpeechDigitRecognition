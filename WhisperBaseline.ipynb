{
 "cells": [
  {
   "cell_type": "markdown",
   "id": "fdeaee64",
   "metadata": {},
   "source": [
    "# Whisper Evaluation on Child Speech Testing Data"
   ]
  },
  {
   "cell_type": "markdown",
   "id": "a86c6322",
   "metadata": {},
   "source": [
    "## Setup of the Evaluation Functions"
   ]
  },
  {
   "cell_type": "code",
   "execution_count": null,
   "id": "9e6f95d3",
   "metadata": {},
   "outputs": [],
   "source": [
    "import os, re, unicodedata, string, contextlib, wave\n",
    "from difflib import get_close_matches\n",
    "import whisper\n",
    "\n",
    "\n",
    "# Key that can extract labels from file names\n",
    "_LABEL_PAT = re.compile(r\"^(\\d{1,2})_\")\n",
    "\n",
    "# English words and their similar words\n",
    "_EN_NUM_WORDS = {\n",
    "    0: [\"zero\", \"oh\", \"o\", \"0\"],\n",
    "    1: [\"one\", \"1\"],\n",
    "    2: [\"two\", \"too\", \"to\", \"2\"],\n",
    "    3: [\"three\", \"tree\", \"free\", \"3\"],\n",
    "    4: [\"four\", \"for\", \"fore\", \"4\"],\n",
    "    5: [\"five\", \"5\"],\n",
    "    6: [\"six\", \"6\"],\n",
    "    7: [\"seven\", \"7\"],\n",
    "    8: [\"eight\", \"ate\", \"8\"],\n",
    "    9: [\"nine\", \"9\"],\n",
    "    10: [\"ten\", \"10\"],\n",
    "}\n",
    "# Afrikaans words and their similar words\n",
    "_AFR_NUM_WORDS = {\n",
    "    0:  [\"boom\", \"boem\"],\n",
    "    1:  [\"eet\", \"eat\"],\n",
    "    2:  [\"hond\"],\n",
    "    3:  [\"huis\"],\n",
    "    4:  [\"kwaad\"],\n",
    "    5:  [\"lekker\"],\n",
    "    6:  [\"nee\", \"knee\"],\n",
    "    7:  [\"seuntjie\"],\n",
    "    8:  [\"sien\", \"seen\"],\n",
    "    9:  [\"wors\", \"worse\"],\n",
    "    10: [\"ja\", \"ya\"],\n",
    "}\n",
    "\n",
    "_WORD_TO_EN = {w: n for n, ws in _EN_NUM_WORDS.items() for w in ws}\n",
    "_WORD_TO_AF = {w: n for n, ws in _AFR_NUM_WORDS.items() for w in ws}\n",
    "# Also make sure model accepts digits as correct\n",
    "for _n in range(0, 11):\n",
    "    _WORD_TO_EN[str(_n)] = _n\n",
    "    _WORD_TO_AF[str(_n)] = _n\n",
    "\n",
    "def _normalize(s: str) -> str:\n",
    "    s = s.lower()\n",
    "    s = unicodedata.normalize(\"NFKD\", s)\n",
    "    s = \"\".join(ch for ch in s if not unicodedata.combining(ch))\n",
    "    s = s.translate(str.maketrans(\"\", \"\", string.punctuation))\n",
    "    s = re.sub(r\"\\s+\", \" \", s).strip()\n",
    "    return s\n",
    "\n",
    "# Accept either 1–2 digits or literal \"NoNum\" before underscore\n",
    "_LABEL_PAT = re.compile(r\"^(NoNum|\\d{1,2})_\")\n",
    "\n",
    "def _true_from_filename(fname: str):\n",
    "    m = _LABEL_PAT.match(fname)\n",
    "    if not m:\n",
    "        return None\n",
    "    g = m.group(1)\n",
    "    return 10 if g == \"NoNum\" else (int(g) if 0 <= int(g) <= 10 else None)\n",
    "\n",
    "\n",
    "def _pred_from_transcript(txt: str, lang: str = \"en\", fuzzy: bool = True, cutoff: float = 0.8):\n",
    "    t = _normalize(txt)\n",
    "    toks = t.split()\n",
    "\n",
    "    if lang == \"af\":\n",
    "        vocab_map = _WORD_TO_AF\n",
    "        fillers = {\"dis\", \"dit\", \"is\", \"die\", \"nommer\", \"syfer\", \"'n\", \"n\", \"die\", \"ja-nee\"}\n",
    "    else:\n",
    "        vocab_map = _WORD_TO_EN\n",
    "        fillers = {\"its\", \"it\", \"is\", \"the\", \"number\", \"digit\", \"a\", \"an\"}\n",
    "\n",
    "    toks = [tok for tok in toks if tok not in fillers]\n",
    "\n",
    "    # exact vocab match\n",
    "    for tok in toks:\n",
    "        if tok in vocab_map:\n",
    "            return vocab_map[tok]\n",
    "\n",
    "    # numeric token (0..10)\n",
    "    for tok in toks:\n",
    "        if tok.isdigit():\n",
    "            v = int(tok)\n",
    "            if 0 <= v <= 10:\n",
    "                return v\n",
    "\n",
    "    # fuzzy match\n",
    "    if fuzzy:\n",
    "        vocab = list(vocab_map.keys())\n",
    "        for tok in toks:\n",
    "            if len(tok) < 3:\n",
    "                continue\n",
    "            m = get_close_matches(tok, vocab, n=1, cutoff=cutoff)\n",
    "            if m:\n",
    "                return vocab_map[m[0]]\n",
    "    return None\n",
    "\n",
    "def _duration_sec(path: str):\n",
    "    try:\n",
    "        with contextlib.closing(wave.open(path, 'r')) as wf:\n",
    "            frames = wf.getnframes()\n",
    "            rate = wf.getframerate()\n",
    "            return frames / float(rate) if rate else None\n",
    "    except Exception:\n",
    "        return None\n",
    "\n",
    "def accuracy_whisper(\n",
    "    folder_path: str,\n",
    "    model_name: str = \"small\",\n",
    "    lang: str = \"en\",                 # \"en\" or \"af\"\n",
    "    min_duration_sec: float = 0.1,\n",
    "    debug_misses: bool = True,\n",
    "    debug_limit: int = 20,\n",
    "):\n",
    "    \"\"\"\n",
    "    Recursively evaluates WAVs under folder_path.\n",
    "    - Expects label = 0..10 before first underscore (e.g., '04_00.wav', '00_00.wav').\n",
    "    - Skips files with missing label\n",
    "    - Returns accuracy in [0,1].\n",
    "    \"\"\"\n",
    "    model = whisper.load_model(model_name)\n",
    "\n",
    "    total, correct = 0, 0\n",
    "    skipped_unlabeled = 0\n",
    "    skipped_short = 0\n",
    "    misses_printed = 0\n",
    "\n",
    "    # Show how many wav files were found (as a preview)\n",
    "    preview = []\n",
    "    for dp, _, files in os.walk(folder_path):\n",
    "        for f in files:\n",
    "            if f.lower().endswith(\".wav\"):\n",
    "                preview.append(os.path.join(dp, f))\n",
    "    print(f\"Found WAVs (recursive): {len(preview)}\")\n",
    "\n",
    "    # Set whisper's language\n",
    "    whisper_lang = \"af\" if lang == \"af\" else \"en\"\n",
    "\n",
    "    for fullpath in sorted(preview):\n",
    "        fname = os.path.basename(fullpath)\n",
    "        true_lab = _true_from_filename(fname)\n",
    "        if true_lab is None:\n",
    "            skipped_unlabeled += 1\n",
    "            continue\n",
    "\n",
    "        dur = _duration_sec(fullpath)\n",
    "        if dur is not None and dur < min_duration_sec:\n",
    "            skipped_short += 1\n",
    "            continue\n",
    "\n",
    "        result = model.transcribe(fullpath, fp16=False, language=whisper_lang, task=\"transcribe\")\n",
    "\n",
    "\n",
    "        text = (result.get(\"text\") or \"\").strip()\n",
    "        pred = _pred_from_transcript(text, lang=lang)\n",
    "\n",
    "        total += 1\n",
    "        if pred == true_lab:\n",
    "            correct += 1\n",
    "        else:\n",
    "            if debug_misses and misses_printed < debug_limit:\n",
    "                if dur:\n",
    "                    print(f\"MISS {fname} → {text!r}  pred={pred}  true={true_lab}  dur={dur:.2f}s\")\n",
    "                else:\n",
    "                    print(f\"MISS {fname} → {text!r}  pred={pred}  true={true_lab}\")\n",
    "                misses_printed += 1\n",
    "\n",
    "    print(f\"\\nEvaluated: {total}  | Skipped (unlabeled): {skipped_unlabeled}  | Skipped (short<{min_duration_sec}s): {skipped_short}\")\n",
    "    return (correct / total) if total > 0 else 0.0\n",
    "\n",
    "# Wrappers for English and Afrikaans\n",
    "def accuracy_whisper_en(folder_path, model_name=\"small\", min_duration_sec=0.12, debug_misses=True, debug_limit=20):\n",
    "    return accuracy_whisper(folder_path, model_name=model_name, lang=\"en\",\n",
    "                            min_duration_sec=min_duration_sec, debug_misses=debug_misses, debug_limit=debug_limit)\n",
    "\n",
    "def accuracy_whisper_af(folder_path, model_name=\"small\", min_duration_sec=0.12, debug_misses=True, debug_limit=20):\n",
    "    return accuracy_whisper(folder_path, model_name=model_name, lang=\"af\",\n",
    "                            min_duration_sec=min_duration_sec, debug_misses=debug_misses, debug_limit=debug_limit)\n"
   ]
  },
  {
   "cell_type": "markdown",
   "id": "d16dad19",
   "metadata": {},
   "source": [
    "## Evaluating the Functions"
   ]
  },
  {
   "cell_type": "markdown",
   "id": "62f47e4a",
   "metadata": {},
   "source": [
    "### English Evaluation"
   ]
  },
  {
   "cell_type": "code",
   "execution_count": 18,
   "id": "70ac1be4",
   "metadata": {},
   "outputs": [
    {
     "name": "stdout",
     "output_type": "stream",
     "text": [
      "Found WAVs (recursive): 102\n"
     ]
    },
    {
     "name": "stderr",
     "output_type": "stream",
     "text": [
      "Python(35286) MallocStackLogging: can't turn off malloc stack logging because it was not enabled.\n",
      "Python(35330) MallocStackLogging: can't turn off malloc stack logging because it was not enabled.\n",
      "Python(35353) MallocStackLogging: can't turn off malloc stack logging because it was not enabled.\n"
     ]
    },
    {
     "name": "stdout",
     "output_type": "stream",
     "text": [
      "MISS 02_00.wav → 'Thank you.'  pred=None  true=2  dur=0.83s\n"
     ]
    },
    {
     "name": "stderr",
     "output_type": "stream",
     "text": [
      "Python(35372) MallocStackLogging: can't turn off malloc stack logging because it was not enabled.\n"
     ]
    },
    {
     "name": "stdout",
     "output_type": "stream",
     "text": [
      "MISS 03_00.wav → 'Do it.'  pred=None  true=3  dur=1.07s\n"
     ]
    },
    {
     "name": "stderr",
     "output_type": "stream",
     "text": [
      "Python(35379) MallocStackLogging: can't turn off malloc stack logging because it was not enabled.\n",
      "Python(35383) MallocStackLogging: can't turn off malloc stack logging because it was not enabled.\n"
     ]
    },
    {
     "name": "stdout",
     "output_type": "stream",
     "text": [
      "MISS 05_00.wav → 'V.'  pred=None  true=5  dur=0.79s\n"
     ]
    },
    {
     "name": "stderr",
     "output_type": "stream",
     "text": [
      "Python(35386) MallocStackLogging: can't turn off malloc stack logging because it was not enabled.\n"
     ]
    },
    {
     "name": "stdout",
     "output_type": "stream",
     "text": [
      "MISS 06_00.wav → 'Sex.'  pred=None  true=6  dur=1.26s\n"
     ]
    },
    {
     "name": "stderr",
     "output_type": "stream",
     "text": [
      "Python(35388) MallocStackLogging: can't turn off malloc stack logging because it was not enabled.\n"
     ]
    },
    {
     "name": "stdout",
     "output_type": "stream",
     "text": [
      "MISS 07_00.wav → 'I love it.'  pred=None  true=7  dur=0.82s\n"
     ]
    },
    {
     "name": "stderr",
     "output_type": "stream",
     "text": [
      "Python(35390) MallocStackLogging: can't turn off malloc stack logging because it was not enabled.\n",
      "Python(35391) MallocStackLogging: can't turn off malloc stack logging because it was not enabled.\n"
     ]
    },
    {
     "name": "stdout",
     "output_type": "stream",
     "text": [
      "MISS 09_00.wav → 'Not.'  pred=None  true=9  dur=1.41s\n"
     ]
    },
    {
     "name": "stderr",
     "output_type": "stream",
     "text": [
      "Python(35392) MallocStackLogging: can't turn off malloc stack logging because it was not enabled.\n"
     ]
    },
    {
     "name": "stdout",
     "output_type": "stream",
     "text": [
      "MISS 01_00.wav → 'corn'  pred=None  true=1  dur=0.93s\n"
     ]
    },
    {
     "name": "stderr",
     "output_type": "stream",
     "text": [
      "Python(35393) MallocStackLogging: can't turn off malloc stack logging because it was not enabled.\n",
      "Python(35394) MallocStackLogging: can't turn off malloc stack logging because it was not enabled.\n",
      "Python(35395) MallocStackLogging: can't turn off malloc stack logging because it was not enabled.\n"
     ]
    },
    {
     "name": "stdout",
     "output_type": "stream",
     "text": [
      "MISS 04_00.wav → ''  pred=None  true=4  dur=0.53s\n"
     ]
    },
    {
     "name": "stderr",
     "output_type": "stream",
     "text": [
      "Python(35396) MallocStackLogging: can't turn off malloc stack logging because it was not enabled.\n"
     ]
    },
    {
     "name": "stdout",
     "output_type": "stream",
     "text": [
      "MISS 05_00.wav → 'Bye.'  pred=None  true=5  dur=0.68s\n"
     ]
    },
    {
     "name": "stderr",
     "output_type": "stream",
     "text": [
      "Python(35397) MallocStackLogging: can't turn off malloc stack logging because it was not enabled.\n"
     ]
    },
    {
     "name": "stdout",
     "output_type": "stream",
     "text": [
      "MISS 06_00.wav → 'Thank you.'  pred=None  true=6  dur=0.84s\n"
     ]
    },
    {
     "name": "stderr",
     "output_type": "stream",
     "text": [
      "Python(35400) MallocStackLogging: can't turn off malloc stack logging because it was not enabled.\n"
     ]
    },
    {
     "name": "stdout",
     "output_type": "stream",
     "text": [
      "MISS 07_00.wav → 'That way.'  pred=None  true=7  dur=0.68s\n"
     ]
    },
    {
     "name": "stderr",
     "output_type": "stream",
     "text": [
      "Python(35410) MallocStackLogging: can't turn off malloc stack logging because it was not enabled.\n"
     ]
    },
    {
     "name": "stdout",
     "output_type": "stream",
     "text": [
      "MISS 08_00.wav → ''  pred=None  true=8  dur=0.65s\n"
     ]
    },
    {
     "name": "stderr",
     "output_type": "stream",
     "text": [
      "Python(35411) MallocStackLogging: can't turn off malloc stack logging because it was not enabled.\n"
     ]
    },
    {
     "name": "stdout",
     "output_type": "stream",
     "text": [
      "MISS 09_00.wav → 'Normally.'  pred=None  true=9  dur=1.19s\n"
     ]
    },
    {
     "name": "stderr",
     "output_type": "stream",
     "text": [
      "Python(35412) MallocStackLogging: can't turn off malloc stack logging because it was not enabled.\n"
     ]
    },
    {
     "name": "stdout",
     "output_type": "stream",
     "text": [
      "MISS 09_01.wav → 'Right.'  pred=8  true=9  dur=0.59s\n"
     ]
    },
    {
     "name": "stderr",
     "output_type": "stream",
     "text": [
      "Python(35425) MallocStackLogging: can't turn off malloc stack logging because it was not enabled.\n",
      "Python(35426) MallocStackLogging: can't turn off malloc stack logging because it was not enabled.\n",
      "Python(35427) MallocStackLogging: can't turn off malloc stack logging because it was not enabled.\n",
      "Python(35428) MallocStackLogging: can't turn off malloc stack logging because it was not enabled.\n",
      "Python(35429) MallocStackLogging: can't turn off malloc stack logging because it was not enabled.\n"
     ]
    },
    {
     "name": "stdout",
     "output_type": "stream",
     "text": [
      "MISS 04_00.wav → '54.'  pred=None  true=4  dur=1.45s\n"
     ]
    },
    {
     "name": "stderr",
     "output_type": "stream",
     "text": [
      "Python(35430) MallocStackLogging: can't turn off malloc stack logging because it was not enabled.\n",
      "Python(35431) MallocStackLogging: can't turn off malloc stack logging because it was not enabled.\n",
      "Python(35434) MallocStackLogging: can't turn off malloc stack logging because it was not enabled.\n"
     ]
    },
    {
     "name": "stdout",
     "output_type": "stream",
     "text": [
      "MISS 07_01.wav → '생朋友'  pred=None  true=7  dur=1.57s\n"
     ]
    },
    {
     "name": "stderr",
     "output_type": "stream",
     "text": [
      "Python(35437) MallocStackLogging: can't turn off malloc stack logging because it was not enabled.\n"
     ]
    },
    {
     "name": "stdout",
     "output_type": "stream",
     "text": [
      "MISS 09_00.wav → 'Bye.'  pred=None  true=9  dur=1.00s\n"
     ]
    },
    {
     "name": "stderr",
     "output_type": "stream",
     "text": [
      "Python(35438) MallocStackLogging: can't turn off malloc stack logging because it was not enabled.\n"
     ]
    },
    {
     "name": "stdout",
     "output_type": "stream",
     "text": [
      "MISS 00_00.wav → 'You.'  pred=None  true=0  dur=0.62s\n"
     ]
    },
    {
     "name": "stderr",
     "output_type": "stream",
     "text": [
      "Python(35439) MallocStackLogging: can't turn off malloc stack logging because it was not enabled.\n",
      "Python(35440) MallocStackLogging: can't turn off malloc stack logging because it was not enabled.\n"
     ]
    },
    {
     "name": "stdout",
     "output_type": "stream",
     "text": [
      "MISS 02_00.wav → ''  pred=None  true=2  dur=0.61s\n"
     ]
    },
    {
     "name": "stderr",
     "output_type": "stream",
     "text": [
      "Python(35441) MallocStackLogging: can't turn off malloc stack logging because it was not enabled.\n"
     ]
    },
    {
     "name": "stdout",
     "output_type": "stream",
     "text": [
      "MISS 03_00.wav → ''  pred=None  true=3  dur=0.57s\n"
     ]
    },
    {
     "name": "stderr",
     "output_type": "stream",
     "text": [
      "Python(35442) MallocStackLogging: can't turn off malloc stack logging because it was not enabled.\n",
      "Python(35443) MallocStackLogging: can't turn off malloc stack logging because it was not enabled.\n",
      "Python(35444) MallocStackLogging: can't turn off malloc stack logging because it was not enabled.\n",
      "Python(35446) MallocStackLogging: can't turn off malloc stack logging because it was not enabled.\n",
      "Python(35450) MallocStackLogging: can't turn off malloc stack logging because it was not enabled.\n",
      "Python(35451) MallocStackLogging: can't turn off malloc stack logging because it was not enabled.\n",
      "Python(35452) MallocStackLogging: can't turn off malloc stack logging because it was not enabled.\n",
      "Python(35453) MallocStackLogging: can't turn off malloc stack logging because it was not enabled.\n",
      "Python(35454) MallocStackLogging: can't turn off malloc stack logging because it was not enabled.\n",
      "Python(35455) MallocStackLogging: can't turn off malloc stack logging because it was not enabled.\n",
      "Python(35456) MallocStackLogging: can't turn off malloc stack logging because it was not enabled.\n",
      "Python(35467) MallocStackLogging: can't turn off malloc stack logging because it was not enabled.\n",
      "Python(35473) MallocStackLogging: can't turn off malloc stack logging because it was not enabled.\n",
      "Python(35497) MallocStackLogging: can't turn off malloc stack logging because it was not enabled.\n",
      "Python(35500) MallocStackLogging: can't turn off malloc stack logging because it was not enabled.\n",
      "Python(35620) MallocStackLogging: can't turn off malloc stack logging because it was not enabled.\n",
      "Python(35625) MallocStackLogging: can't turn off malloc stack logging because it was not enabled.\n",
      "Python(35628) MallocStackLogging: can't turn off malloc stack logging because it was not enabled.\n",
      "Python(35631) MallocStackLogging: can't turn off malloc stack logging because it was not enabled.\n",
      "Python(35635) MallocStackLogging: can't turn off malloc stack logging because it was not enabled.\n",
      "Python(35641) MallocStackLogging: can't turn off malloc stack logging because it was not enabled.\n",
      "Python(35642) MallocStackLogging: can't turn off malloc stack logging because it was not enabled.\n",
      "Python(35644) MallocStackLogging: can't turn off malloc stack logging because it was not enabled.\n",
      "Python(35655) MallocStackLogging: can't turn off malloc stack logging because it was not enabled.\n",
      "Python(35656) MallocStackLogging: can't turn off malloc stack logging because it was not enabled.\n",
      "Python(35657) MallocStackLogging: can't turn off malloc stack logging because it was not enabled.\n",
      "Python(35658) MallocStackLogging: can't turn off malloc stack logging because it was not enabled.\n",
      "Python(35659) MallocStackLogging: can't turn off malloc stack logging because it was not enabled.\n",
      "Python(35670) MallocStackLogging: can't turn off malloc stack logging because it was not enabled.\n",
      "Python(35677) MallocStackLogging: can't turn off malloc stack logging because it was not enabled.\n",
      "Python(35684) MallocStackLogging: can't turn off malloc stack logging because it was not enabled.\n",
      "Python(35693) MallocStackLogging: can't turn off malloc stack logging because it was not enabled.\n",
      "Python(35694) MallocStackLogging: can't turn off malloc stack logging because it was not enabled.\n",
      "Python(35695) MallocStackLogging: can't turn off malloc stack logging because it was not enabled.\n",
      "Python(35696) MallocStackLogging: can't turn off malloc stack logging because it was not enabled.\n",
      "Python(35697) MallocStackLogging: can't turn off malloc stack logging because it was not enabled.\n",
      "Python(35698) MallocStackLogging: can't turn off malloc stack logging because it was not enabled.\n",
      "Python(35701) MallocStackLogging: can't turn off malloc stack logging because it was not enabled.\n",
      "Python(35702) MallocStackLogging: can't turn off malloc stack logging because it was not enabled.\n",
      "Python(35703) MallocStackLogging: can't turn off malloc stack logging because it was not enabled.\n",
      "Python(35704) MallocStackLogging: can't turn off malloc stack logging because it was not enabled.\n",
      "Python(35705) MallocStackLogging: can't turn off malloc stack logging because it was not enabled.\n",
      "Python(35706) MallocStackLogging: can't turn off malloc stack logging because it was not enabled.\n",
      "Python(35708) MallocStackLogging: can't turn off malloc stack logging because it was not enabled.\n",
      "Python(35709) MallocStackLogging: can't turn off malloc stack logging because it was not enabled.\n",
      "Python(35710) MallocStackLogging: can't turn off malloc stack logging because it was not enabled.\n",
      "Python(35712) MallocStackLogging: can't turn off malloc stack logging because it was not enabled.\n",
      "Python(35715) MallocStackLogging: can't turn off malloc stack logging because it was not enabled.\n",
      "Python(35716) MallocStackLogging: can't turn off malloc stack logging because it was not enabled.\n",
      "Python(35717) MallocStackLogging: can't turn off malloc stack logging because it was not enabled.\n",
      "Python(35720) MallocStackLogging: can't turn off malloc stack logging because it was not enabled.\n",
      "Python(35721) MallocStackLogging: can't turn off malloc stack logging because it was not enabled.\n",
      "Python(35722) MallocStackLogging: can't turn off malloc stack logging because it was not enabled.\n",
      "Python(35723) MallocStackLogging: can't turn off malloc stack logging because it was not enabled.\n",
      "Python(35724) MallocStackLogging: can't turn off malloc stack logging because it was not enabled.\n",
      "Python(35740) MallocStackLogging: can't turn off malloc stack logging because it was not enabled.\n",
      "Python(35746) MallocStackLogging: can't turn off malloc stack logging because it was not enabled.\n",
      "Python(35755) MallocStackLogging: can't turn off malloc stack logging because it was not enabled.\n",
      "Python(35757) MallocStackLogging: can't turn off malloc stack logging because it was not enabled.\n",
      "Python(35767) MallocStackLogging: can't turn off malloc stack logging because it was not enabled.\n",
      "Python(35768) MallocStackLogging: can't turn off malloc stack logging because it was not enabled.\n",
      "Python(35769) MallocStackLogging: can't turn off malloc stack logging because it was not enabled.\n",
      "Python(35772) MallocStackLogging: can't turn off malloc stack logging because it was not enabled.\n",
      "Python(35775) MallocStackLogging: can't turn off malloc stack logging because it was not enabled.\n",
      "Python(35776) MallocStackLogging: can't turn off malloc stack logging because it was not enabled.\n",
      "Python(35777) MallocStackLogging: can't turn off malloc stack logging because it was not enabled.\n",
      "Python(35778) MallocStackLogging: can't turn off malloc stack logging because it was not enabled.\n",
      "Python(35779) MallocStackLogging: can't turn off malloc stack logging because it was not enabled.\n",
      "Python(35783) MallocStackLogging: can't turn off malloc stack logging because it was not enabled.\n"
     ]
    },
    {
     "name": "stdout",
     "output_type": "stream",
     "text": [
      "\n",
      "Evaluated: 102  | Skipped (unlabeled): 0  | Skipped (short<0.12s): 0\n",
      "\n",
      "Whisper accuracy on English Child Speech: 56.86%\n"
     ]
    }
   ],
   "source": [
    "acc = accuracy_whisper_en(\"TestingData/OnlyNumbers/English/\", model_name=\"large\")\n",
    "\n",
    "print(f\"\\nWhisper accuracy on English Child Speech: {acc:.2%}\")"
   ]
  },
  {
   "cell_type": "markdown",
   "id": "7f97edcc",
   "metadata": {},
   "source": [
    "### Afrikaans Evaluation"
   ]
  },
  {
   "cell_type": "code",
   "execution_count": 13,
   "id": "e165fe3e",
   "metadata": {},
   "outputs": [
    {
     "name": "stdout",
     "output_type": "stream",
     "text": [
      "Found WAVs (recursive): 95\n"
     ]
    },
    {
     "name": "stderr",
     "output_type": "stream",
     "text": [
      "Python(29455) MallocStackLogging: can't turn off malloc stack logging because it was not enabled.\n",
      "Python(29497) MallocStackLogging: can't turn off malloc stack logging because it was not enabled.\n"
     ]
    },
    {
     "name": "stdout",
     "output_type": "stream",
     "text": [
      "MISS 00_01.wav → 'boel.'  pred=None  true=0  dur=0.42s\n"
     ]
    },
    {
     "name": "stderr",
     "output_type": "stream",
     "text": [
      "Python(29524) MallocStackLogging: can't turn off malloc stack logging because it was not enabled.\n",
      "Python(29573) MallocStackLogging: can't turn off malloc stack logging because it was not enabled.\n"
     ]
    },
    {
     "name": "stdout",
     "output_type": "stream",
     "text": [
      "MISS 00_03.wav → 'Om.'  pred=None  true=0  dur=0.35s\n"
     ]
    },
    {
     "name": "stderr",
     "output_type": "stream",
     "text": [
      "Python(29593) MallocStackLogging: can't turn off malloc stack logging because it was not enabled.\n"
     ]
    },
    {
     "name": "stdout",
     "output_type": "stream",
     "text": [
      "MISS 00_04.wav → 'Poem!'  pred=None  true=0  dur=0.54s\n"
     ]
    },
    {
     "name": "stderr",
     "output_type": "stream",
     "text": [
      "Python(29607) MallocStackLogging: can't turn off malloc stack logging because it was not enabled.\n",
      "Python(29617) MallocStackLogging: can't turn off malloc stack logging because it was not enabled.\n",
      "Python(29622) MallocStackLogging: can't turn off malloc stack logging because it was not enabled.\n",
      "Python(29623) MallocStackLogging: can't turn off malloc stack logging because it was not enabled.\n",
      "Python(29629) MallocStackLogging: can't turn off malloc stack logging because it was not enabled.\n"
     ]
    },
    {
     "name": "stdout",
     "output_type": "stream",
     "text": [
      "MISS 00_09.wav → 'Poem.'  pred=None  true=0  dur=0.34s\n"
     ]
    },
    {
     "name": "stderr",
     "output_type": "stream",
     "text": [
      "Python(29681) MallocStackLogging: can't turn off malloc stack logging because it was not enabled.\n"
     ]
    },
    {
     "name": "stdout",
     "output_type": "stream",
     "text": [
      "MISS 01_00.wav → ''  pred=None  true=1  dur=0.29s\n"
     ]
    },
    {
     "name": "stderr",
     "output_type": "stream",
     "text": [
      "Python(29723) MallocStackLogging: can't turn off malloc stack logging because it was not enabled.\n",
      "Python(29737) MallocStackLogging: can't turn off malloc stack logging because it was not enabled.\n"
     ]
    },
    {
     "name": "stdout",
     "output_type": "stream",
     "text": [
      "MISS 01_02.wav → ''  pred=None  true=1  dur=0.27s\n"
     ]
    },
    {
     "name": "stderr",
     "output_type": "stream",
     "text": [
      "Python(29738) MallocStackLogging: can't turn off malloc stack logging because it was not enabled.\n"
     ]
    },
    {
     "name": "stdout",
     "output_type": "stream",
     "text": [
      "MISS 01_03.wav → 'Ek.'  pred=None  true=1  dur=0.26s\n"
     ]
    },
    {
     "name": "stderr",
     "output_type": "stream",
     "text": [
      "Python(29744) MallocStackLogging: can't turn off malloc stack logging because it was not enabled.\n"
     ]
    },
    {
     "name": "stdout",
     "output_type": "stream",
     "text": [
      "MISS 01_04.wav → 'ek...'  pred=None  true=1  dur=0.30s\n"
     ]
    },
    {
     "name": "stderr",
     "output_type": "stream",
     "text": [
      "Python(29749) MallocStackLogging: can't turn off malloc stack logging because it was not enabled.\n"
     ]
    },
    {
     "name": "stdout",
     "output_type": "stream",
     "text": [
      "MISS 01_05.wav → 'Ondertitels ingediend door die Amara.org gemeenschap'  pred=None  true=1  dur=0.20s\n"
     ]
    },
    {
     "name": "stderr",
     "output_type": "stream",
     "text": [
      "Python(29766) MallocStackLogging: can't turn off malloc stack logging because it was not enabled.\n",
      "Python(29772) MallocStackLogging: can't turn off malloc stack logging because it was not enabled.\n",
      "Python(29776) MallocStackLogging: can't turn off malloc stack logging because it was not enabled.\n"
     ]
    },
    {
     "name": "stdout",
     "output_type": "stream",
     "text": [
      "MISS 01_08.wav → 'Ondertitels ingediend door die Amara.org gemeenschap'  pred=None  true=1  dur=0.22s\n"
     ]
    },
    {
     "name": "stderr",
     "output_type": "stream",
     "text": [
      "Python(29787) MallocStackLogging: can't turn off malloc stack logging because it was not enabled.\n",
      "Python(29793) MallocStackLogging: can't turn off malloc stack logging because it was not enabled.\n"
     ]
    },
    {
     "name": "stdout",
     "output_type": "stream",
     "text": [
      "MISS 02_00.wav → 'want'  pred=None  true=2  dur=0.57s\n"
     ]
    },
    {
     "name": "stderr",
     "output_type": "stream",
     "text": [
      "Python(29800) MallocStackLogging: can't turn off malloc stack logging because it was not enabled.\n"
     ]
    },
    {
     "name": "stdout",
     "output_type": "stream",
     "text": [
      "MISS 02_01.wav → 'Hoor dit.'  pred=None  true=2  dur=0.64s\n"
     ]
    },
    {
     "name": "stderr",
     "output_type": "stream",
     "text": [
      "Python(29846) MallocStackLogging: can't turn off malloc stack logging because it was not enabled.\n",
      "Python(29873) MallocStackLogging: can't turn off malloc stack logging because it was not enabled.\n"
     ]
    },
    {
     "name": "stdout",
     "output_type": "stream",
     "text": [
      "MISS 02_03.wav → 'Onds.'  pred=None  true=2  dur=0.47s\n"
     ]
    },
    {
     "name": "stderr",
     "output_type": "stream",
     "text": [
      "Python(29885) MallocStackLogging: can't turn off malloc stack logging because it was not enabled.\n"
     ]
    },
    {
     "name": "stdout",
     "output_type": "stream",
     "text": [
      "MISS 02_04.wav → 'Ondertitels ingediend door die Amara.org gemeenschap'  pred=None  true=2  dur=0.33s\n"
     ]
    },
    {
     "name": "stderr",
     "output_type": "stream",
     "text": [
      "Python(29952) MallocStackLogging: can't turn off malloc stack logging because it was not enabled.\n"
     ]
    },
    {
     "name": "stdout",
     "output_type": "stream",
     "text": [
      "MISS 02_05.wav → 'Bon...'  pred=None  true=2  dur=0.58s\n"
     ]
    },
    {
     "name": "stderr",
     "output_type": "stream",
     "text": [
      "Python(29958) MallocStackLogging: can't turn off malloc stack logging because it was not enabled.\n"
     ]
    },
    {
     "name": "stdout",
     "output_type": "stream",
     "text": [
      "MISS 02_06.wav → ''  pred=None  true=2  dur=0.41s\n"
     ]
    },
    {
     "name": "stderr",
     "output_type": "stream",
     "text": [
      "Python(29961) MallocStackLogging: can't turn off malloc stack logging because it was not enabled.\n"
     ]
    },
    {
     "name": "stdout",
     "output_type": "stream",
     "text": [
      "MISS 02_07.wav → 'on.'  pred=None  true=2  dur=0.46s\n"
     ]
    },
    {
     "name": "stderr",
     "output_type": "stream",
     "text": [
      "Python(29962) MallocStackLogging: can't turn off malloc stack logging because it was not enabled.\n"
     ]
    },
    {
     "name": "stdout",
     "output_type": "stream",
     "text": [
      "MISS 02_08.wav → ''  pred=None  true=2  dur=0.37s\n"
     ]
    },
    {
     "name": "stderr",
     "output_type": "stream",
     "text": [
      "Python(29963) MallocStackLogging: can't turn off malloc stack logging because it was not enabled.\n"
     ]
    },
    {
     "name": "stdout",
     "output_type": "stream",
     "text": [
      "MISS 02_09.wav → 'one.'  pred=None  true=2  dur=0.40s\n"
     ]
    },
    {
     "name": "stderr",
     "output_type": "stream",
     "text": [
      "Python(29967) MallocStackLogging: can't turn off malloc stack logging because it was not enabled.\n"
     ]
    },
    {
     "name": "stdout",
     "output_type": "stream",
     "text": [
      "MISS 03_00.wav → ''  pred=None  true=3  dur=0.64s\n"
     ]
    },
    {
     "name": "stderr",
     "output_type": "stream",
     "text": [
      "Python(29976) MallocStackLogging: can't turn off malloc stack logging because it was not enabled.\n",
      "Python(29980) MallocStackLogging: can't turn off malloc stack logging because it was not enabled.\n",
      "Python(29982) MallocStackLogging: can't turn off malloc stack logging because it was not enabled.\n",
      "Python(29991) MallocStackLogging: can't turn off malloc stack logging because it was not enabled.\n",
      "Python(30007) MallocStackLogging: can't turn off malloc stack logging because it was not enabled.\n",
      "Python(30127) MallocStackLogging: can't turn off malloc stack logging because it was not enabled.\n",
      "Python(30130) MallocStackLogging: can't turn off malloc stack logging because it was not enabled.\n",
      "Python(30132) MallocStackLogging: can't turn off malloc stack logging because it was not enabled.\n",
      "Python(30133) MallocStackLogging: can't turn off malloc stack logging because it was not enabled.\n",
      "Python(30138) MallocStackLogging: can't turn off malloc stack logging because it was not enabled.\n",
      "Python(30142) MallocStackLogging: can't turn off malloc stack logging because it was not enabled.\n",
      "Python(30147) MallocStackLogging: can't turn off malloc stack logging because it was not enabled.\n",
      "Python(30149) MallocStackLogging: can't turn off malloc stack logging because it was not enabled.\n",
      "Python(30150) MallocStackLogging: can't turn off malloc stack logging because it was not enabled.\n",
      "Python(30154) MallocStackLogging: can't turn off malloc stack logging because it was not enabled.\n",
      "Python(30155) MallocStackLogging: can't turn off malloc stack logging because it was not enabled.\n",
      "Python(30208) MallocStackLogging: can't turn off malloc stack logging because it was not enabled.\n",
      "Python(30243) MallocStackLogging: can't turn off malloc stack logging because it was not enabled.\n",
      "Python(30246) MallocStackLogging: can't turn off malloc stack logging because it was not enabled.\n",
      "Python(30258) MallocStackLogging: can't turn off malloc stack logging because it was not enabled.\n",
      "Python(30263) MallocStackLogging: can't turn off malloc stack logging because it was not enabled.\n",
      "Python(30296) MallocStackLogging: can't turn off malloc stack logging because it was not enabled.\n",
      "Python(30306) MallocStackLogging: can't turn off malloc stack logging because it was not enabled.\n",
      "Python(30315) MallocStackLogging: can't turn off malloc stack logging because it was not enabled.\n",
      "Python(30320) MallocStackLogging: can't turn off malloc stack logging because it was not enabled.\n",
      "Python(30323) MallocStackLogging: can't turn off malloc stack logging because it was not enabled.\n",
      "Python(30332) MallocStackLogging: can't turn off malloc stack logging because it was not enabled.\n",
      "Python(30334) MallocStackLogging: can't turn off malloc stack logging because it was not enabled.\n",
      "Python(30335) MallocStackLogging: can't turn off malloc stack logging because it was not enabled.\n",
      "Python(30338) MallocStackLogging: can't turn off malloc stack logging because it was not enabled.\n",
      "Python(30340) MallocStackLogging: can't turn off malloc stack logging because it was not enabled.\n",
      "Python(30355) MallocStackLogging: can't turn off malloc stack logging because it was not enabled.\n",
      "Python(30366) MallocStackLogging: can't turn off malloc stack logging because it was not enabled.\n",
      "Python(30371) MallocStackLogging: can't turn off malloc stack logging because it was not enabled.\n",
      "Python(30376) MallocStackLogging: can't turn off malloc stack logging because it was not enabled.\n",
      "Python(30378) MallocStackLogging: can't turn off malloc stack logging because it was not enabled.\n",
      "Python(30381) MallocStackLogging: can't turn off malloc stack logging because it was not enabled.\n",
      "Python(30387) MallocStackLogging: can't turn off malloc stack logging because it was not enabled.\n",
      "Python(30392) MallocStackLogging: can't turn off malloc stack logging because it was not enabled.\n",
      "Python(30393) MallocStackLogging: can't turn off malloc stack logging because it was not enabled.\n",
      "Python(30394) MallocStackLogging: can't turn off malloc stack logging because it was not enabled.\n",
      "Python(30406) MallocStackLogging: can't turn off malloc stack logging because it was not enabled.\n",
      "Python(30415) MallocStackLogging: can't turn off malloc stack logging because it was not enabled.\n",
      "Python(30423) MallocStackLogging: can't turn off malloc stack logging because it was not enabled.\n",
      "Python(30432) MallocStackLogging: can't turn off malloc stack logging because it was not enabled.\n",
      "Python(30434) MallocStackLogging: can't turn off malloc stack logging because it was not enabled.\n",
      "Python(30435) MallocStackLogging: can't turn off malloc stack logging because it was not enabled.\n",
      "Python(30445) MallocStackLogging: can't turn off malloc stack logging because it was not enabled.\n",
      "Python(30451) MallocStackLogging: can't turn off malloc stack logging because it was not enabled.\n",
      "Python(30452) MallocStackLogging: can't turn off malloc stack logging because it was not enabled.\n",
      "Python(30476) MallocStackLogging: can't turn off malloc stack logging because it was not enabled.\n",
      "Python(30485) MallocStackLogging: can't turn off malloc stack logging because it was not enabled.\n",
      "Python(30492) MallocStackLogging: can't turn off malloc stack logging because it was not enabled.\n",
      "Python(30493) MallocStackLogging: can't turn off malloc stack logging because it was not enabled.\n",
      "Python(30501) MallocStackLogging: can't turn off malloc stack logging because it was not enabled.\n",
      "Python(30538) MallocStackLogging: can't turn off malloc stack logging because it was not enabled.\n",
      "Python(30566) MallocStackLogging: can't turn off malloc stack logging because it was not enabled.\n",
      "Python(30575) MallocStackLogging: can't turn off malloc stack logging because it was not enabled.\n",
      "Python(30582) MallocStackLogging: can't turn off malloc stack logging because it was not enabled.\n",
      "Python(30588) MallocStackLogging: can't turn off malloc stack logging because it was not enabled.\n",
      "Python(30593) MallocStackLogging: can't turn off malloc stack logging because it was not enabled.\n",
      "Python(30603) MallocStackLogging: can't turn off malloc stack logging because it was not enabled.\n",
      "Python(30619) MallocStackLogging: can't turn off malloc stack logging because it was not enabled.\n",
      "Python(30637) MallocStackLogging: can't turn off malloc stack logging because it was not enabled.\n"
     ]
    },
    {
     "name": "stdout",
     "output_type": "stream",
     "text": [
      "\n",
      "Evaluated: 95  | Skipped (unlabeled): 0  | Skipped (short<0.12s): 0\n",
      "\n",
      "Whisper accuracy on Afrikaans Child Speech: 22.11%\n"
     ]
    }
   ],
   "source": [
    "acc = accuracy_whisper_af(\"TestingData/OnlyNumbers/Afrikaans/\", model_name=\"large\")\n",
    "\n",
    "print(f\"\\nWhisper accuracy on Afrikaans Child Speech: {acc:.2%}\")"
   ]
  }
 ],
 "metadata": {
  "kernelspec": {
   "display_name": ".venv",
   "language": "python",
   "name": "python3"
  },
  "language_info": {
   "codemirror_mode": {
    "name": "ipython",
    "version": 3
   },
   "file_extension": ".py",
   "mimetype": "text/x-python",
   "name": "python",
   "nbconvert_exporter": "python",
   "pygments_lexer": "ipython3",
   "version": "3.9.6"
  }
 },
 "nbformat": 4,
 "nbformat_minor": 5
}
